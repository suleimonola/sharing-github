{
    "nbformat_minor": 2, 
    "cells": [
        {
            "source": "<a><img src=\"https://ibm.box.com/shared/static/ugcqz6ohbvff804xp84y4kqnvvk3bq1g.png\" width=\"200\" align=\"center\"></a>", 
            "cell_type": "markdown", 
            "metadata": {}
        }, 
        {
            "source": "<h1>Scraping and Analyzing Basketball Statistics with Python  </h1>\n<h2>Description</h2>\n", 
            "cell_type": "markdown", 
            "metadata": {}
        }, 
        {
            "source": "Web scraping involves extracting data from websites. In this assignment, you will web scrape basketball statistics from Wikipedia of some of the greatest basketball players. You will perform some analysis on the data using Pandas, plot, data answer some basic questions then store the data on IBM cloud.", 
            "cell_type": "markdown", 
            "metadata": {}
        }, 
        {
            "source": "The players we will use are shown in the following figure from left to right we have <a href='https://en.wikipedia.org/wiki/Michael_Jordan'>Michael Jordan </a>,\n<a href='https://en.wikipedia.org/wiki/Kobe_Bryant'>Kobe Bryant</a>,\n<a href='https://en.wikipedia.org/wiki/LeBron_James'>Lebron James</a> and <a href='https://en.wikipedia.org/wiki/Stephen_Curry'>Stephen Curry</a>.", 
            "cell_type": "markdown", 
            "metadata": {}
        }, 
        {
            "source": "\n<img src=\"https://s3-api.us-geo.objectstorage.softlayer.net/cf-courses-data/CognitiveClass/PY0101EN/projects/EdX/Images/Michael_Jordan.jpg\" alt=\"Trulli\" width=\"100\" height=\"200\">\n<img src=\"https://s3-api.us-geo.objectstorage.softlayer.net/cf-courses-data/CognitiveClass/PY0101EN/projects/EdX/Images/Kobe_Bryant.jpg\" alt=\"Trulli\" width=\"100\" height=\"75\">\n<img src=\"https://s3-api.us-geo.objectstorage.softlayer.net/cf-courses-data/CognitiveClass/PY0101EN/projects/EdX/Images/Lebron.jpg\" alt=\"Trulli\" width=\"100\" height=\"200\">\n<img src=\"https://s3-api.us-geo.objectstorage.softlayer.net/cf-courses-data/CognitiveClass/PY0101EN/projects/EdX/Images/Stephen_Curry_Shooting.jpg\" alt=\"Trulli\" width=\"100\" height=\"75\">\n", 
            "cell_type": "markdown", 
            "metadata": {}
        }, 
        {
            "source": "<center>Figure: following figure from left to right we have <a href='https://en.wikipedia.org/wiki/Michael_Jordan'>Michael Jordan </a>,\n<a href='https://en.wikipedia.org/wiki/Kobe_Bryant'>Kobe Bryant</a>,\n<a href='https://en.wikipedia.org/wiki/LeBron_James'>Lebron James</a> and <a href='https://en.wikipedia.org/wiki/Stephen_Curry'>Stephen Curry</a></center> <i>(image source Wikipedia)</i>", 
            "cell_type": "markdown", 
            "metadata": {}
        }, 
        {
            "source": "<b>Wikipedia.org</b> has the statistics of each Basketball Player in different tables; we will use the table <bb>regular season</b>.  The Table for  <a href='https://en.wikipedia.org/wiki/Michael_Jordan'>Michael Jordan </a> is shown here:", 
            "cell_type": "markdown", 
            "metadata": {}
        }, 
        {
            "source": "<table class=\"wikitable sortable\" style=\"font-size:95%; text-align:right;\">\n<tbody><tr>\n<th>Year\n</th>\n<th>Team\n</th>\n<th><abbr title=\"Games played\">GP</abbr>\n</th>\n<th><abbr title=\"Games started\">GS</abbr>\n</th>\n<th><abbr title=\"Minutes per game\">MPG</abbr>\n</th>\n<th><abbr title=\"Field goal percentage\">FG%</abbr>\n</th>\n<th><abbr title=\"3-point field-goal percentage\">3P%</abbr>\n</th>\n<th><abbr title=\"Free-throw percentage\">FT%</abbr>\n</th>\n<th><abbr title=\"Rebounds per game\">RPG</abbr>\n</th>\n<th><abbr title=\"Assists per game\">APG</abbr>\n</th>\n<th><abbr title=\"Steals per game\">SPG</abbr>\n</th>\n<th><abbr title=\"Blocks per game\">BPG</abbr>\n</th>\n<th><abbr title=\"Points per game\">PPG</abbr>\n</th></tr>\n<tr>\n<td style=\"text-align:left;\"><a href=\"/wiki/1984%E2%80%9385_NBA_season\" title=\"1984\u201385 NBA season\">1984\u201385</a>\n</td>\n<td style=\"text-align:left;\"><a href=\"/wiki/1984%E2%80%9385_Chicago_Bulls_season\" title=\"1984\u201385 Chicago Bulls season\">Chicago</a>\n</td>\n<td><b>82</b></td>\n<td><b>82</b></td>\n<td>38.3</td>\n<td>.515</td>\n<td>.173</td>\n<td>.845</td>\n<td>6.5</td>\n<td>5.9</td>\n<td>2.4</td>\n<td>.8</td>\n<td>28.2\n</td></tr>\n<tr>\n<td style=\"text-align:left;\"><a href=\"/wiki/1985%E2%80%9386_NBA_season\" title=\"1985\u201386 NBA season\">1985\u201386</a>\n</td>\n<td style=\"text-align:left;\"><a href=\"/wiki/1985%E2%80%9386_Chicago_Bulls_season\" title=\"1985\u201386 Chicago Bulls season\">Chicago</a>\n</td>\n<td>18</td>\n<td>7</td>\n<td>25.1</td>\n<td>.457</td>\n<td>.167</td>\n<td>.840</td>\n<td>3.6</td>\n<td>2.9</td>\n<td>2.1</td>\n<td>1.2</td>\n<td>22.7\n</td></tr>\n<tr>\n<td style=\"text-align:left;\"><a href=\"/wiki/1986%E2%80%9387_NBA_season\" title=\"1986\u201387 NBA season\">1986\u201387</a>\n</td>\n<td style=\"text-align:left;\"><a href=\"/wiki/1986%E2%80%9387_Chicago_Bulls_season\" title=\"1986\u201387 Chicago Bulls season\">Chicago</a>\n</td>\n<td><b>82</b></td>\n<td><b>82</b></td>\n<td>40.0</td>\n<td>.482</td>\n<td>.182</td>\n<td><b>.857</b></td>\n<td>5.2</td>\n<td>4.6</td>\n<td>2.9</td>\n<td>1.5</td>\n<td style=\"background:#cfecec;\"><b>37.1</b>*\n</td></tr>\n<tr>\n<td style=\"text-align:left;\"><a href=\"/wiki/1987%E2%80%9388_NBA_season\" title=\"1987\u201388 NBA season\">1987\u201388</a>\n</td>\n<td style=\"text-align:left;\"><a href=\"/wiki/1987%E2%80%9388_Chicago_Bulls_season\" title=\"1987\u201388 Chicago Bulls season\">Chicago</a>\n</td>\n<td><b>82</b></td>\n<td><b>82</b></td>\n<td bgcolor=\"CFECEC\"><b>40.4</b>*</td>\n<td>.535</td>\n<td>.132</td>\n<td>.841</td>\n<td>5.5</td>\n<td>5.9</td>\n<td bgcolor=\"CFECEC\"><b>3.2</b>*</td>\n<td><b>1.6</b></td>\n<td style=\"background:#cfecec;\">35.0*\n</td></tr>\n<tr>\n<td style=\"text-align:left;\"><a href=\"/wiki/1988%E2%80%9389_NBA_season\" title=\"1988\u201389 NBA season\">1988\u201389</a>\n</td>\n<td style=\"text-align:left;\"><a href=\"/wiki/1988%E2%80%9389_Chicago_Bulls_season\" title=\"1988\u201389 Chicago Bulls season\">Chicago</a>\n</td>\n<td>81</td>\n<td>81</td>\n<td bgcolor=\"CFECEC\">40.2*</td>\n<td>.538</td>\n<td>.276</td>\n<td>.850</td>\n<td><b>8.0</b></td>\n<td><b>8.0</b></td>\n<td>2.9</td>\n<td>.8</td>\n<td style=\"background:#cfecec;\">32.5*\n</td></tr>\n<tr>\n<td style=\"text-align:left;\"><a href=\"/wiki/1989%E2%80%9390_NBA_season\" title=\"1989\u201390 NBA season\">1989\u201390</a>\n</td>\n<td style=\"text-align:left;\"><a href=\"/wiki/1989%E2%80%9390_Chicago_Bulls_season\" title=\"1989\u201390 Chicago Bulls season\">Chicago</a>\n</td>\n<td><b>82</b></td>\n<td><b>82</b></td>\n<td>39.0</td>\n<td>.526</td>\n<td>.376</td>\n<td>.848</td>\n<td>6.9</td>\n<td>6.3</td>\n<td bgcolor=\"CFECEC\">2.8*</td>\n<td>.7</td>\n<td style=\"background:#cfecec;\">33.6*\n</td></tr>\n<tr>\n<td style=\"text-align:left;background:#afe6ba;\"><a href=\"/wiki/1990%E2%80%9391_NBA_season\" title=\"1990\u201391 NBA season\">1990\u201391</a>\u2020\n</td>\n<td style=\"text-align:left;\"><a href=\"/wiki/1990%E2%80%9391_Chicago_Bulls_season\" title=\"1990\u201391 Chicago Bulls season\">Chicago</a>\n</td>\n<td><b>82</b></td>\n<td><b>82</b></td>\n<td>37.0</td>\n<td><b>.539</b></td>\n<td>.312</td>\n<td>.851</td>\n<td>6.0</td>\n<td>5.5</td>\n<td>2.7</td>\n<td>1.0</td>\n<td style=\"background:#cfecec;\">31.5*\n</td></tr>\n<tr>\n<td style=\"text-align:left;background:#afe6ba;\"><a href=\"/wiki/1991%E2%80%9392_NBA_season\" title=\"1991\u201392 NBA season\">1991\u201392</a>\u2020\n</td>\n<td style=\"text-align:left;\"><a href=\"/wiki/1991%E2%80%9392_Chicago_Bulls_season\" title=\"1991\u201392 Chicago Bulls season\">Chicago</a>\n</td>\n<td>80</td>\n<td>80</td>\n<td>38.8</td>\n<td>.519</td>\n<td>.270</td>\n<td>.832</td>\n<td>6.4</td>\n<td>6.1</td>\n<td>2.3</td>\n<td>.9</td>\n<td style=\"background:#cfecec;\">30.1*\n</td></tr>\n<tr>\n<td style=\"text-align:left;background:#afe6ba;\"><a href=\"/wiki/1992%E2%80%9393_NBA_season\" title=\"1992\u201393 NBA season\">1992\u201393</a>\u2020\n</td>\n<td style=\"text-align:left;\"><a href=\"/wiki/1992%E2%80%9393_Chicago_Bulls_season\" title=\"1992\u201393 Chicago Bulls season\">Chicago</a>\n</td>\n<td>78</td>\n<td>78</td>\n<td>39.3</td>\n<td>.495</td>\n<td>.352</td>\n<td>.837</td>\n<td>6.7</td>\n<td>5.5</td>\n<td bgcolor=\"CFECEC\">2.8*</td>\n<td>.8</td>\n<td style=\"background:#cfecec;\">32.6*\n</td></tr>\n<tr>\n<td style=\"text-align:left;\"><a href=\"/wiki/1994%E2%80%9395_NBA_season\" title=\"1994\u201395 NBA season\">1994\u201395</a>\n</td>\n<td style=\"text-align:left;\"><a href=\"/wiki/1994%E2%80%9395_Chicago_Bulls_season\" title=\"1994\u201395 Chicago Bulls season\">Chicago</a>\n</td>\n<td>17</td>\n<td>17</td>\n<td>39.3</td>\n<td>.411</td>\n<td><b>.500</b></td>\n<td>.801</td>\n<td>6.9</td>\n<td>5.3</td>\n<td>1.8</td>\n<td>.8</td>\n<td>26.9\n</td></tr>\n<tr>\n<td style=\"text-align:left;background:#afe6ba;\"><a href=\"/wiki/1995%E2%80%9396_NBA_season\" title=\"1995\u201396 NBA season\">1995\u201396</a>\u2020\n</td>\n<td style=\"text-align:left;\"><a href=\"/wiki/1995%E2%80%9396_Chicago_Bulls_season\" title=\"1995\u201396 Chicago Bulls season\">Chicago</a>\n</td>\n<td><b>82</b></td>\n<td><b>82</b></td>\n<td>37.7</td>\n<td>.495</td>\n<td>.427</td>\n<td>.834</td>\n<td>6.6</td>\n<td>4.3</td>\n<td>2.2</td>\n<td>.5</td>\n<td style=\"background:#cfecec;\">30.4*\n</td></tr>\n<tr>\n<td style=\"text-align:left;background:#afe6ba;\"><a href=\"/wiki/1996%E2%80%9397_NBA_season\" title=\"1996\u201397 NBA season\">1996\u201397</a>\u2020\n</td>\n<td style=\"text-align:left;\"><a href=\"/wiki/1996%E2%80%9397_Chicago_Bulls_season\" title=\"1996\u201397 Chicago Bulls season\">Chicago</a>\n</td>\n<td><b>82</b></td>\n<td><b>82</b></td>\n<td>37.9</td>\n<td>.486</td>\n<td>.374</td>\n<td>.833</td>\n<td>5.9</td>\n<td>4.3</td>\n<td>1.7</td>\n<td>.5</td>\n<td style=\"background:#cfecec;\">29.6*\n</td></tr>\n<tr>\n<td style=\"text-align:left;background:#afe6ba;\"><a href=\"/wiki/1997%E2%80%9398_NBA_season\" title=\"1997\u201398 NBA season\">1997\u201398</a>\u2020\n</td>\n<td style=\"text-align:left;\"><a href=\"/wiki/1997%E2%80%9398_Chicago_Bulls_season\" title=\"1997\u201398 Chicago Bulls season\">Chicago</a>\n</td>\n<td><b>82</b></td>\n<td><b>82</b></td>\n<td>38.8</td>\n<td>.465</td>\n<td>.238</td>\n<td>.784</td>\n<td>5.8</td>\n<td>3.5</td>\n<td>1.7</td>\n<td>.5</td>\n<td style=\"background:#cfecec;\">28.7*\n</td></tr>\n<tr>\n<td style=\"text-align:left;\"><a href=\"/wiki/2001%E2%80%9302_NBA_season\" title=\"2001\u201302 NBA season\">2001\u201302</a>\n</td>\n<td style=\"text-align:left;\"><a href=\"/wiki/2001%E2%80%9302_Washington_Wizards_season\" title=\"2001\u201302 Washington Wizards season\">Washington</a>\n</td>\n<td>60</td>\n<td>53</td>\n<td>34.9</td>\n<td>.416</td>\n<td>.189</td>\n<td>.790</td>\n<td>5.7</td>\n<td>5.2</td>\n<td>1.4</td>\n<td>.4</td>\n<td>22.9\n</td></tr>\n<tr>\n<td style=\"text-align:left;\"><a href=\"/wiki/2002%E2%80%9303_NBA_season\" title=\"2002\u201303 NBA season\">2002\u201303</a>\n</td>\n<td style=\"text-align:left;\"><a href=\"/wiki/2002%E2%80%9303_Washington_Wizards_season\" title=\"2002\u201303 Washington Wizards season\">Washington</a>\n</td>\n<td><b>82</b></td>\n<td>67</td>\n<td>37.0</td>\n<td>.445</td>\n<td>.291</td>\n<td>.821</td>\n<td>6.1</td>\n<td>3.8</td>\n<td>1.5</td>\n<td>.5</td>\n<td>20.0\n</td></tr>\n<tr class=\"sortbottom\">\n<td colspan=\"2\" style=\"text-align:center;\"><b>Career</b>\n</td>\n<td>1,072</td>\n<td>1,039</td>\n<td>38.3</td>\n<td>.497</td>\n<td>.327</td>\n<td>.835</td>\n<td>6.2</td>\n<td>5.3</td>\n<td>2.3</td>\n<td>.8</td>\n<td style=\"background:#E0CEF2; width:3em\">30.1<img alt=\"double-dagger\" data-file-height=\"14\" data-file-width=\"9\" decoding=\"async\" height=\"14\" src=\"//upload.wikimedia.org/wikipedia/commons/f/f9/Double-dagger-14-plain.png\" width=\"9\"/>\n</td></tr>\n<tr class=\"sortbottom\">\n<td colspan=\"2\" style=\"text-align:center;\"><b>All-Star</b>\n</td>\n<td>13</td>\n<td>13</td>\n<td>29.4</td>\n<td>.472</td>\n<td>.273</td>\n<td>.750</td>\n<td>4.7</td>\n<td>4.2</td>\n<td>2.8</td>\n<td>.5</td>\n<td>20.2\n</td></tr></tbody></table>", 
            "cell_type": "markdown", 
            "metadata": {}
        }, 
        {
            "source": "We will scrape the data for each year for each player convert the data for each player into a Pandas Dataframe, plot the results for Points per game, perform some analysis. Finally, we will store the results in the IBM cloud.", 
            "cell_type": "markdown", 
            "metadata": {}
        }, 
        {
            "source": "<h2>Table of Contents</h2>\n<div class=\"alert alert-block alert-info\" style=\"margin-top: 20px\">\n    <ul>\n        <li><a href=\"#Section_1\">Define a Web Scraping Function </a></li>\n    <li><a href=\"#Section_2\">Web Scraping and Converting to Pandas Dataframe</a> </li>\n    <li><a href=\"#Section_3\">Plot the Points per game</a></li>\n    <li><a href=\"#Section_4\">Store the Player Statistics in IBM Object Storage </a></li>\n    <li><a href=\"#Section_5\">How to submit </a></li>\n    </ul>\n<p>\n    Estimated Time Needed: <strong>180 min</strong></p>\n</div>\n\n<hr>", 
            "cell_type": "markdown", 
            "metadata": {}
        }, 
        {
            "source": "<h2 id=\"Section_1\"> Define a Web Scraping Function  </h2>", 
            "cell_type": "markdown", 
            "metadata": {}
        }, 
        {
            "source": "In this section, we define the function <code>get_basketball_stats</code>. The function will return a dictionary corresponding to the Regular season statistics of each basketball player scraped from m <a href=\"http://en.wikipedia.org\">en.wikipedia.org</a>. \nThe <a href=\"https://en.wikipedia.org/wiki/Parameter_(computer_programming)\"> Formal Parameter </a> or input  <code> link</code> is going to be the URL of the Wikipedia page for each player. This function will return a  Python dictionary. The keys will be the column names, and the values will be a list that contains a different columns; the element of each list will be a separate row for that column.\nYou don't have to know how the function works just the input in the output. ", 
            "cell_type": "markdown", 
            "metadata": {}
        }, 
        {
            "execution_count": 1, 
            "cell_type": "code", 
            "metadata": {}, 
            "outputs": [], 
            "source": "import bs4\nimport requests\nimport pandas as pd\nimport numpy as np\nimport boto3"
        }, 
        {
            "execution_count": 2, 
            "cell_type": "code", 
            "metadata": {}, 
            "outputs": [], 
            "source": "def get_basketball_stats(link='https://en.wikipedia.org/wiki/Michael_Jordan'):\n    # read the webpage \n    response = requests.get(link)\n    # create a BeautifulSoup object to parse the HTML  \n    soup = bs4.BeautifulSoup(response.text, 'html.parser')\n    # the player stats are defined  with the attribute CSS class set to 'wikitable sortable'; \n    #therefore we create a tag object \"table\"\n    table=soup.find(class_='wikitable sortable')\n\n    #the headers of the table are the first table row (tr) we create a tag object that has the first row  \n    headers=table.tr\n    #the table column names are displayed  as an abbreviation; therefore we find all the abbr tags and returs an Iterator\n    titles=headers.find_all(\"abbr\")\n    #we create a dictionary  and pass the table headers as the keys \n    data = {title['title']:[] for title in titles}\n   #we will store each column as a list in a dictionary, the header of the column will be the dictionary key \n\n    #we iterate over each table row by fining each table tag tr and assign it to the objed\n    for row in table.find_all('tr')[1:]:\n    \n        #we iterate over each cell in the table, as each cell corresponds to a different column we all obtain the correspondin key corresponding the column n \n        for key,a in zip(data.keys(),row.find_all(\"td\")[2:]):\n            # we append each elment and strip any extra HTML contnet \n            data[key].append(''.join(c for c in a.text if (c.isdigit() or c == \".\")))\n\n    # we remove extra rows by finding the smallest list     \n    Min=min([len(x)  for x in data.values()])\n    #we convert the elements in the key to floats \n    for key in data.keys():\n    \n        data[key]=list(map(lambda x: float(x), data[key][:Min]))\n       \n    return data"
        }, 
        {
            "source": "<h2 id=\"Section_2\"> Question 1: Web Scraping the data and Converting to Pandas Dataframe   </h2>", 
            "cell_type": "markdown", 
            "metadata": {}
        }, 
        {
            "source": "For this question, you must use the function <code>get_basketball_stats</code> to extract a Python Dictionary of the player statistics, convert the dictionary to a Python Dataframe.  To get full marks, you must display the first five rows of the dataframe for each player using the method head with the name of each player printed above. As shown in the following figuer **the order of the columns may be different depending on the version of Python**.", 
            "cell_type": "markdown", 
            "metadata": {}
        }, 
        {
            "source": " <img src=\"https://s3-api.us-geo.objectstorage.softlayer.net/cf-courses-data/CognitiveClass/PY0101EN/projects/EdX/Images/question_one_answer.jpeg\" alt=\"Trulli\" width=\"1000\" height=\"1000\">", 
            "cell_type": "markdown", 
            "metadata": {}
        }, 
        {
            "source": "You will need the following libraries ", 
            "cell_type": "markdown", 
            "metadata": {}
        }, 
        {
            "execution_count": 3, 
            "cell_type": "code", 
            "metadata": {}, 
            "outputs": [], 
            "source": "import pandas as pd\nimport matplotlib.pyplot as plt\nfrom IPython.display import display\n"
        }, 
        {
            "source": "The list <code>links</code> contain the link the Wikipedia article for each player. The list <code>names</codes> contains the names of each player.", 
            "cell_type": "markdown", 
            "metadata": {}
        }, 
        {
            "execution_count": 4, 
            "cell_type": "code", 
            "metadata": {}, 
            "outputs": [], 
            "source": "links=['https://en.wikipedia.org/wiki/Michael_Jordan'\\\n       ,'https://en.wikipedia.org/wiki/Kobe_Bryant'\\\n      ,'https://en.wikipedia.org/wiki/LeBron_James'\\\n      \n      ,'https://en.wikipedia.org/wiki/Stephen_Curry']\nnames=['Michael Jordan','Kobe Bryant','Lebron James','Stephen Curry']"
        }, 
        {
            "source": "You can use the function get_basketball_stats to extract the <b>Regular season table </b> and store it to a Python dictionary. For example, you can extract the table for Michael Jordan and convert it to a Python dictionary as follows:", 
            "cell_type": "markdown", 
            "metadata": {}
        }, 
        {
            "source": "#using the link  \n<code>\nmichael_jordan_dict=get_basketball_stats('https://en.wikipedia.org/wiki/Michael_Jordan')\n</code>\n\n#using the list\n\n<code>\nmichael_jordan_dict=get_basketball_stats(links[0])\n</code>", 
            "cell_type": "markdown", 
            "metadata": {}
        }, 
        {
            "source": "<h5>For each Player create a Python dictionary from the table <b>Regular season table </b>.</h5>", 
            "cell_type": "markdown", 
            "metadata": {}
        }, 
        {
            "execution_count": 5, 
            "cell_type": "code", 
            "metadata": {}, 
            "outputs": [], 
            "source": "michael_jordan_dict = get_basketball_stats(links[0])\nkobe_bryant_dict = get_basketball_stats(links[1])\nlebron_james_dict = get_basketball_stats(links[2])\nstephen_curry_dict = get_basketball_stats(links[3])"
        }, 
        {
            "source": "<h5>For each Player convert the Python Dictionary to a Pandas Dataframe using the constructor <code>pd.DataFrame()</code> </h5>\n\n", 
            "cell_type": "markdown", 
            "metadata": {}
        }, 
        {
            "execution_count": 13, 
            "cell_type": "code", 
            "metadata": {}, 
            "outputs": [
                {
                    "execution_count": 13, 
                    "metadata": {}, 
                    "data": {
                        "text/plain": "0     28.2\n1     22.7\n2     37.1\n3     35.0\n4     32.5\n5     33.6\n6     31.5\n7     30.1\n8     32.6\n9     26.9\n10    30.4\n11    29.6\n12    28.7\n13    22.9\n14    20.0\nName: Points per game, dtype: float64"
                    }, 
                    "output_type": "execute_result"
                }
            ], 
            "source": "\nmj_df = pd.DataFrame(michael_jordan_dict)\nkb_df = pd.DataFrame(kobe_bryant_dict)\nlj_df = pd.DataFrame(lebron_james_dict)\nsc_df = pd.DataFrame(stephen_curry_dict)\nbasketb_df = [mj_df,kb_df,lj_df,sc_df]\nmj_df['Points per game']"
        }, 
        {
            "source": "<h5>For each player display the first five columns of the Dataframe, print the name of each Player above the Dataframe.</h5>", 
            "cell_type": "markdown", 
            "metadata": {}
        }, 
        {
            "source": "If you perform the process in a loop you will have to use the function <code>display</code> as follows:\n\n<code>display(df)</code>\n\n", 
            "cell_type": "markdown", 
            "metadata": {}
        }, 
        {
            "execution_count": 7, 
            "cell_type": "code", 
            "metadata": {}, 
            "outputs": [
                {
                    "output_type": "stream", 
                    "name": "stdout", 
                    "text": "Michael Jordan\n"
                }, 
                {
                    "output_type": "display_data", 
                    "data": {
                        "text/html": "<div>\n<style scoped>\n    .dataframe tbody tr th:only-of-type {\n        vertical-align: middle;\n    }\n\n    .dataframe tbody tr th {\n        vertical-align: top;\n    }\n\n    .dataframe thead th {\n        text-align: right;\n    }\n</style>\n<table border=\"1\" class=\"dataframe\">\n  <thead>\n    <tr style=\"text-align: right;\">\n      <th></th>\n      <th>Games played</th>\n      <th>Games started</th>\n      <th>Minutes per game</th>\n      <th>Field goal percentage</th>\n      <th>3-point field-goal percentage</th>\n    </tr>\n  </thead>\n  <tbody>\n    <tr>\n      <th>0</th>\n      <td>82.0</td>\n      <td>82.0</td>\n      <td>38.3</td>\n      <td>0.515</td>\n      <td>0.173</td>\n    </tr>\n    <tr>\n      <th>1</th>\n      <td>18.0</td>\n      <td>7.0</td>\n      <td>25.1</td>\n      <td>0.457</td>\n      <td>0.167</td>\n    </tr>\n    <tr>\n      <th>2</th>\n      <td>82.0</td>\n      <td>82.0</td>\n      <td>40.0</td>\n      <td>0.482</td>\n      <td>0.182</td>\n    </tr>\n    <tr>\n      <th>3</th>\n      <td>82.0</td>\n      <td>82.0</td>\n      <td>40.4</td>\n      <td>0.535</td>\n      <td>0.132</td>\n    </tr>\n    <tr>\n      <th>4</th>\n      <td>81.0</td>\n      <td>81.0</td>\n      <td>40.2</td>\n      <td>0.538</td>\n      <td>0.276</td>\n    </tr>\n    <tr>\n      <th>5</th>\n      <td>82.0</td>\n      <td>82.0</td>\n      <td>39.0</td>\n      <td>0.526</td>\n      <td>0.376</td>\n    </tr>\n    <tr>\n      <th>6</th>\n      <td>82.0</td>\n      <td>82.0</td>\n      <td>37.0</td>\n      <td>0.539</td>\n      <td>0.312</td>\n    </tr>\n    <tr>\n      <th>7</th>\n      <td>80.0</td>\n      <td>80.0</td>\n      <td>38.8</td>\n      <td>0.519</td>\n      <td>0.270</td>\n    </tr>\n    <tr>\n      <th>8</th>\n      <td>78.0</td>\n      <td>78.0</td>\n      <td>39.3</td>\n      <td>0.495</td>\n      <td>0.352</td>\n    </tr>\n    <tr>\n      <th>9</th>\n      <td>17.0</td>\n      <td>17.0</td>\n      <td>39.3</td>\n      <td>0.411</td>\n      <td>0.500</td>\n    </tr>\n    <tr>\n      <th>10</th>\n      <td>82.0</td>\n      <td>82.0</td>\n      <td>37.7</td>\n      <td>0.495</td>\n      <td>0.427</td>\n    </tr>\n    <tr>\n      <th>11</th>\n      <td>82.0</td>\n      <td>82.0</td>\n      <td>37.9</td>\n      <td>0.486</td>\n      <td>0.374</td>\n    </tr>\n    <tr>\n      <th>12</th>\n      <td>82.0</td>\n      <td>82.0</td>\n      <td>38.8</td>\n      <td>0.465</td>\n      <td>0.238</td>\n    </tr>\n    <tr>\n      <th>13</th>\n      <td>60.0</td>\n      <td>53.0</td>\n      <td>34.9</td>\n      <td>0.416</td>\n      <td>0.189</td>\n    </tr>\n    <tr>\n      <th>14</th>\n      <td>82.0</td>\n      <td>67.0</td>\n      <td>37.0</td>\n      <td>0.445</td>\n      <td>0.291</td>\n    </tr>\n  </tbody>\n</table>\n</div>", 
                        "text/plain": "    Games played  Games started  Minutes per game  Field goal percentage  \\\n0           82.0           82.0              38.3                  0.515   \n1           18.0            7.0              25.1                  0.457   \n2           82.0           82.0              40.0                  0.482   \n3           82.0           82.0              40.4                  0.535   \n4           81.0           81.0              40.2                  0.538   \n5           82.0           82.0              39.0                  0.526   \n6           82.0           82.0              37.0                  0.539   \n7           80.0           80.0              38.8                  0.519   \n8           78.0           78.0              39.3                  0.495   \n9           17.0           17.0              39.3                  0.411   \n10          82.0           82.0              37.7                  0.495   \n11          82.0           82.0              37.9                  0.486   \n12          82.0           82.0              38.8                  0.465   \n13          60.0           53.0              34.9                  0.416   \n14          82.0           67.0              37.0                  0.445   \n\n    3-point field-goal percentage  \n0                           0.173  \n1                           0.167  \n2                           0.182  \n3                           0.132  \n4                           0.276  \n5                           0.376  \n6                           0.312  \n7                           0.270  \n8                           0.352  \n9                           0.500  \n10                          0.427  \n11                          0.374  \n12                          0.238  \n13                          0.189  \n14                          0.291  "
                    }, 
                    "metadata": {}
                }, 
                {
                    "output_type": "stream", 
                    "name": "stdout", 
                    "text": "Kobe Bryant\n"
                }, 
                {
                    "output_type": "display_data", 
                    "data": {
                        "text/html": "<div>\n<style scoped>\n    .dataframe tbody tr th:only-of-type {\n        vertical-align: middle;\n    }\n\n    .dataframe tbody tr th {\n        vertical-align: top;\n    }\n\n    .dataframe thead th {\n        text-align: right;\n    }\n</style>\n<table border=\"1\" class=\"dataframe\">\n  <thead>\n    <tr style=\"text-align: right;\">\n      <th></th>\n      <th>Games played</th>\n      <th>Games started</th>\n      <th>Minutes per game</th>\n      <th>Field goal percentage</th>\n      <th>3-point field-goal percentage</th>\n    </tr>\n  </thead>\n  <tbody>\n    <tr>\n      <th>0</th>\n      <td>71.0</td>\n      <td>6.0</td>\n      <td>15.5</td>\n      <td>0.417</td>\n      <td>0.375</td>\n    </tr>\n    <tr>\n      <th>1</th>\n      <td>79.0</td>\n      <td>1.0</td>\n      <td>26.0</td>\n      <td>0.428</td>\n      <td>0.341</td>\n    </tr>\n    <tr>\n      <th>2</th>\n      <td>50.0</td>\n      <td>50.0</td>\n      <td>37.9</td>\n      <td>0.465</td>\n      <td>0.267</td>\n    </tr>\n    <tr>\n      <th>3</th>\n      <td>66.0</td>\n      <td>62.0</td>\n      <td>38.2</td>\n      <td>0.468</td>\n      <td>0.319</td>\n    </tr>\n    <tr>\n      <th>4</th>\n      <td>68.0</td>\n      <td>68.0</td>\n      <td>40.9</td>\n      <td>0.464</td>\n      <td>0.305</td>\n    </tr>\n    <tr>\n      <th>5</th>\n      <td>80.0</td>\n      <td>80.0</td>\n      <td>38.3</td>\n      <td>0.469</td>\n      <td>0.250</td>\n    </tr>\n    <tr>\n      <th>6</th>\n      <td>82.0</td>\n      <td>82.0</td>\n      <td>41.5</td>\n      <td>0.451</td>\n      <td>0.383</td>\n    </tr>\n    <tr>\n      <th>7</th>\n      <td>65.0</td>\n      <td>64.0</td>\n      <td>37.6</td>\n      <td>0.438</td>\n      <td>0.327</td>\n    </tr>\n    <tr>\n      <th>8</th>\n      <td>66.0</td>\n      <td>66.0</td>\n      <td>40.7</td>\n      <td>0.433</td>\n      <td>0.339</td>\n    </tr>\n    <tr>\n      <th>9</th>\n      <td>80.0</td>\n      <td>80.0</td>\n      <td>41.0</td>\n      <td>0.450</td>\n      <td>0.347</td>\n    </tr>\n    <tr>\n      <th>10</th>\n      <td>77.0</td>\n      <td>77.0</td>\n      <td>40.8</td>\n      <td>0.463</td>\n      <td>0.344</td>\n    </tr>\n    <tr>\n      <th>11</th>\n      <td>82.0</td>\n      <td>82.0</td>\n      <td>38.9</td>\n      <td>0.459</td>\n      <td>0.361</td>\n    </tr>\n    <tr>\n      <th>12</th>\n      <td>82.0</td>\n      <td>82.0</td>\n      <td>36.1</td>\n      <td>0.467</td>\n      <td>0.351</td>\n    </tr>\n    <tr>\n      <th>13</th>\n      <td>73.0</td>\n      <td>73.0</td>\n      <td>38.8</td>\n      <td>0.456</td>\n      <td>0.329</td>\n    </tr>\n    <tr>\n      <th>14</th>\n      <td>82.0</td>\n      <td>82.0</td>\n      <td>33.9</td>\n      <td>0.451</td>\n      <td>0.323</td>\n    </tr>\n    <tr>\n      <th>15</th>\n      <td>58.0</td>\n      <td>58.0</td>\n      <td>38.5</td>\n      <td>0.430</td>\n      <td>0.303</td>\n    </tr>\n    <tr>\n      <th>16</th>\n      <td>78.0</td>\n      <td>78.0</td>\n      <td>38.6</td>\n      <td>0.463</td>\n      <td>0.324</td>\n    </tr>\n    <tr>\n      <th>17</th>\n      <td>6.0</td>\n      <td>6.0</td>\n      <td>29.5</td>\n      <td>0.425</td>\n      <td>0.188</td>\n    </tr>\n    <tr>\n      <th>18</th>\n      <td>35.0</td>\n      <td>35.0</td>\n      <td>34.5</td>\n      <td>0.373</td>\n      <td>0.293</td>\n    </tr>\n    <tr>\n      <th>19</th>\n      <td>66.0</td>\n      <td>66.0</td>\n      <td>28.2</td>\n      <td>0.358</td>\n      <td>0.285</td>\n    </tr>\n  </tbody>\n</table>\n</div>", 
                        "text/plain": "    Games played  Games started  Minutes per game  Field goal percentage  \\\n0           71.0            6.0              15.5                  0.417   \n1           79.0            1.0              26.0                  0.428   \n2           50.0           50.0              37.9                  0.465   \n3           66.0           62.0              38.2                  0.468   \n4           68.0           68.0              40.9                  0.464   \n5           80.0           80.0              38.3                  0.469   \n6           82.0           82.0              41.5                  0.451   \n7           65.0           64.0              37.6                  0.438   \n8           66.0           66.0              40.7                  0.433   \n9           80.0           80.0              41.0                  0.450   \n10          77.0           77.0              40.8                  0.463   \n11          82.0           82.0              38.9                  0.459   \n12          82.0           82.0              36.1                  0.467   \n13          73.0           73.0              38.8                  0.456   \n14          82.0           82.0              33.9                  0.451   \n15          58.0           58.0              38.5                  0.430   \n16          78.0           78.0              38.6                  0.463   \n17           6.0            6.0              29.5                  0.425   \n18          35.0           35.0              34.5                  0.373   \n19          66.0           66.0              28.2                  0.358   \n\n    3-point field-goal percentage  \n0                           0.375  \n1                           0.341  \n2                           0.267  \n3                           0.319  \n4                           0.305  \n5                           0.250  \n6                           0.383  \n7                           0.327  \n8                           0.339  \n9                           0.347  \n10                          0.344  \n11                          0.361  \n12                          0.351  \n13                          0.329  \n14                          0.323  \n15                          0.303  \n16                          0.324  \n17                          0.188  \n18                          0.293  \n19                          0.285  "
                    }, 
                    "metadata": {}
                }, 
                {
                    "output_type": "stream", 
                    "name": "stdout", 
                    "text": "Lebron James\n"
                }, 
                {
                    "output_type": "display_data", 
                    "data": {
                        "text/html": "<div>\n<style scoped>\n    .dataframe tbody tr th:only-of-type {\n        vertical-align: middle;\n    }\n\n    .dataframe tbody tr th {\n        vertical-align: top;\n    }\n\n    .dataframe thead th {\n        text-align: right;\n    }\n</style>\n<table border=\"1\" class=\"dataframe\">\n  <thead>\n    <tr style=\"text-align: right;\">\n      <th></th>\n      <th>Games played</th>\n      <th>Games started</th>\n      <th>Minutes per game</th>\n      <th>Field goal percentage</th>\n      <th>3-point field-goal percentage</th>\n    </tr>\n  </thead>\n  <tbody>\n    <tr>\n      <th>0</th>\n      <td>79.0</td>\n      <td>79.0</td>\n      <td>39.5</td>\n      <td>0.417</td>\n      <td>0.290</td>\n    </tr>\n    <tr>\n      <th>1</th>\n      <td>80.0</td>\n      <td>80.0</td>\n      <td>42.4</td>\n      <td>0.472</td>\n      <td>0.351</td>\n    </tr>\n    <tr>\n      <th>2</th>\n      <td>79.0</td>\n      <td>79.0</td>\n      <td>42.5</td>\n      <td>0.480</td>\n      <td>0.335</td>\n    </tr>\n    <tr>\n      <th>3</th>\n      <td>78.0</td>\n      <td>78.0</td>\n      <td>40.9</td>\n      <td>0.476</td>\n      <td>0.319</td>\n    </tr>\n    <tr>\n      <th>4</th>\n      <td>75.0</td>\n      <td>74.0</td>\n      <td>40.4</td>\n      <td>0.484</td>\n      <td>0.315</td>\n    </tr>\n    <tr>\n      <th>5</th>\n      <td>81.0</td>\n      <td>81.0</td>\n      <td>37.7</td>\n      <td>0.489</td>\n      <td>0.344</td>\n    </tr>\n    <tr>\n      <th>6</th>\n      <td>76.0</td>\n      <td>76.0</td>\n      <td>39.0</td>\n      <td>0.503</td>\n      <td>0.333</td>\n    </tr>\n    <tr>\n      <th>7</th>\n      <td>79.0</td>\n      <td>79.0</td>\n      <td>38.8</td>\n      <td>0.510</td>\n      <td>0.330</td>\n    </tr>\n    <tr>\n      <th>8</th>\n      <td>62.0</td>\n      <td>62.0</td>\n      <td>37.5</td>\n      <td>0.531</td>\n      <td>0.362</td>\n    </tr>\n    <tr>\n      <th>9</th>\n      <td>76.0</td>\n      <td>76.0</td>\n      <td>37.9</td>\n      <td>0.565</td>\n      <td>0.406</td>\n    </tr>\n    <tr>\n      <th>10</th>\n      <td>77.0</td>\n      <td>77.0</td>\n      <td>37.7</td>\n      <td>0.567</td>\n      <td>0.379</td>\n    </tr>\n    <tr>\n      <th>11</th>\n      <td>69.0</td>\n      <td>69.0</td>\n      <td>36.1</td>\n      <td>0.488</td>\n      <td>0.354</td>\n    </tr>\n    <tr>\n      <th>12</th>\n      <td>76.0</td>\n      <td>76.0</td>\n      <td>35.6</td>\n      <td>0.520</td>\n      <td>0.309</td>\n    </tr>\n    <tr>\n      <th>13</th>\n      <td>74.0</td>\n      <td>74.0</td>\n      <td>37.8</td>\n      <td>0.548</td>\n      <td>0.363</td>\n    </tr>\n    <tr>\n      <th>14</th>\n      <td>82.0</td>\n      <td>82.0</td>\n      <td>36.9</td>\n      <td>0.542</td>\n      <td>0.367</td>\n    </tr>\n    <tr>\n      <th>15</th>\n      <td>55.0</td>\n      <td>55.0</td>\n      <td>35.2</td>\n      <td>0.510</td>\n      <td>0.339</td>\n    </tr>\n  </tbody>\n</table>\n</div>", 
                        "text/plain": "    Games played  Games started  Minutes per game  Field goal percentage  \\\n0           79.0           79.0              39.5                  0.417   \n1           80.0           80.0              42.4                  0.472   \n2           79.0           79.0              42.5                  0.480   \n3           78.0           78.0              40.9                  0.476   \n4           75.0           74.0              40.4                  0.484   \n5           81.0           81.0              37.7                  0.489   \n6           76.0           76.0              39.0                  0.503   \n7           79.0           79.0              38.8                  0.510   \n8           62.0           62.0              37.5                  0.531   \n9           76.0           76.0              37.9                  0.565   \n10          77.0           77.0              37.7                  0.567   \n11          69.0           69.0              36.1                  0.488   \n12          76.0           76.0              35.6                  0.520   \n13          74.0           74.0              37.8                  0.548   \n14          82.0           82.0              36.9                  0.542   \n15          55.0           55.0              35.2                  0.510   \n\n    3-point field-goal percentage  \n0                           0.290  \n1                           0.351  \n2                           0.335  \n3                           0.319  \n4                           0.315  \n5                           0.344  \n6                           0.333  \n7                           0.330  \n8                           0.362  \n9                           0.406  \n10                          0.379  \n11                          0.354  \n12                          0.309  \n13                          0.363  \n14                          0.367  \n15                          0.339  "
                    }, 
                    "metadata": {}
                }, 
                {
                    "output_type": "stream", 
                    "name": "stdout", 
                    "text": "Stephen Curry\n"
                }, 
                {
                    "output_type": "display_data", 
                    "data": {
                        "text/html": "<div>\n<style scoped>\n    .dataframe tbody tr th:only-of-type {\n        vertical-align: middle;\n    }\n\n    .dataframe tbody tr th {\n        vertical-align: top;\n    }\n\n    .dataframe thead th {\n        text-align: right;\n    }\n</style>\n<table border=\"1\" class=\"dataframe\">\n  <thead>\n    <tr style=\"text-align: right;\">\n      <th></th>\n      <th>Games played</th>\n      <th>Games started</th>\n      <th>Minutes per game</th>\n      <th>Field goal percentage</th>\n      <th>3-point field-goal percentage</th>\n    </tr>\n  </thead>\n  <tbody>\n    <tr>\n      <th>0</th>\n      <td>80.0</td>\n      <td>77.0</td>\n      <td>36.2</td>\n      <td>0.462</td>\n      <td>0.437</td>\n    </tr>\n    <tr>\n      <th>1</th>\n      <td>74.0</td>\n      <td>74.0</td>\n      <td>33.6</td>\n      <td>0.480</td>\n      <td>0.442</td>\n    </tr>\n    <tr>\n      <th>2</th>\n      <td>26.0</td>\n      <td>23.0</td>\n      <td>28.2</td>\n      <td>0.490</td>\n      <td>0.455</td>\n    </tr>\n    <tr>\n      <th>3</th>\n      <td>78.0</td>\n      <td>78.0</td>\n      <td>38.2</td>\n      <td>0.451</td>\n      <td>0.453</td>\n    </tr>\n    <tr>\n      <th>4</th>\n      <td>78.0</td>\n      <td>78.0</td>\n      <td>36.5</td>\n      <td>0.471</td>\n      <td>0.424</td>\n    </tr>\n    <tr>\n      <th>5</th>\n      <td>80.0</td>\n      <td>80.0</td>\n      <td>32.7</td>\n      <td>0.487</td>\n      <td>0.443</td>\n    </tr>\n    <tr>\n      <th>6</th>\n      <td>79.0</td>\n      <td>79.0</td>\n      <td>34.2</td>\n      <td>0.504</td>\n      <td>0.454</td>\n    </tr>\n    <tr>\n      <th>7</th>\n      <td>79.0</td>\n      <td>79.0</td>\n      <td>33.4</td>\n      <td>0.468</td>\n      <td>0.411</td>\n    </tr>\n    <tr>\n      <th>8</th>\n      <td>51.0</td>\n      <td>51.0</td>\n      <td>32.0</td>\n      <td>0.495</td>\n      <td>0.423</td>\n    </tr>\n    <tr>\n      <th>9</th>\n      <td>69.0</td>\n      <td>69.0</td>\n      <td>33.8</td>\n      <td>0.472</td>\n      <td>0.437</td>\n    </tr>\n  </tbody>\n</table>\n</div>", 
                        "text/plain": "   Games played  Games started  Minutes per game  Field goal percentage  \\\n0          80.0           77.0              36.2                  0.462   \n1          74.0           74.0              33.6                  0.480   \n2          26.0           23.0              28.2                  0.490   \n3          78.0           78.0              38.2                  0.451   \n4          78.0           78.0              36.5                  0.471   \n5          80.0           80.0              32.7                  0.487   \n6          79.0           79.0              34.2                  0.504   \n7          79.0           79.0              33.4                  0.468   \n8          51.0           51.0              32.0                  0.495   \n9          69.0           69.0              33.8                  0.472   \n\n   3-point field-goal percentage  \n0                          0.437  \n1                          0.442  \n2                          0.455  \n3                          0.453  \n4                          0.424  \n5                          0.443  \n6                          0.454  \n7                          0.411  \n8                          0.423  \n9                          0.437  "
                    }, 
                    "metadata": {}
                }
            ], 
            "source": "\nfor i in range(0,4):\n    print(names[i])\n    display(basketb_df[i][basketb_df[i].columns[0:5]])"
        }, 
        {
            "source": "<h2 id=\"Section_3\">  Question 2: plot the Points per game for a player using the function plt.plot().</h2>", 
            "cell_type": "markdown", 
            "metadata": {}
        }, 
        {
            "source": "Import the plotting  library ", 
            "cell_type": "markdown", 
            "metadata": {}
        }, 
        {
            "execution_count": 16, 
            "cell_type": "code", 
            "metadata": {}, 
            "outputs": [
                {
                    "execution_count": 16, 
                    "metadata": {}, 
                    "data": {
                        "text/plain": "Index(['Games played', 'Games started', 'Minutes per game',\n       'Field goal percentage', '3-point field-goal percentage',\n       'Free-throw percentage', 'Rebounds per game', 'Assists per game',\n       'Steals per game', 'Blocks per game', 'Points per game'],\n      dtype='object')"
                    }, 
                    "output_type": "execute_result"
                }
            ], 
            "source": "import matplotlib.pyplot as plt\nmj_df.keys()"
        }, 
        {
            "source": "Using the function <code>plt.plot()</code> plot the Points per game, for one player Just a note you can plot a dataframe column like a numpy array. You can also plot them for each player. Find out how to add a xlabel 'years', a ylabel 'Points per game' and a legend.", 
            "cell_type": "markdown", 
            "metadata": {}
        }, 
        {
            "execution_count": 18, 
            "cell_type": "code", 
            "metadata": {}, 
            "outputs": [
                {
                    "execution_count": 18, 
                    "metadata": {}, 
                    "data": {
                        "text/plain": "Text(0, 0.5, 'Points per game')"
                    }, 
                    "output_type": "execute_result"
                }, 
                {
                    "output_type": "display_data", 
                    "data": {
                        "image/png": "[encoded data removed]", 
                        "text/plain": "<Figure size 432x288 with 1 Axes>"
                    }, 
                    "metadata": {
                        "needs_background": "light"
                    }
                }
            ], 
            "source": "plt.plot(mj_df[['Points per game']], label=\"Micheal Jordan\")\nplt.legend()\nplt.xlabel('years')\nplt.ylabel('Points per game')"
        }, 
        {
            "source": "<h2 id=\"Section_3\"> Question 3: Store the Player Statistics in Object Storage (optional). </h2>", 
            "cell_type": "markdown", 
            "metadata": {}
        }, 
        {
            "source": "Save one player's dataframe   as a csv file using the method <code>dataframe.to_csv(csv_name)</code>. The string that contains the name of the csv file should be assigned the  <code>csv_name</code>", 
            "cell_type": "markdown", 
            "metadata": {}
        }, 
        {
            "execution_count": 19, 
            "cell_type": "code", 
            "metadata": {}, 
            "outputs": [], 
            "source": "csv_name = 'MJ1.csv'\nmj_df.to_csv(csv_name)"
        }, 
        {
            "source": "From the tutorial <i>PROVISIONING AN OBJECT STORAGE INSTANCE ON IBM CLOUD</i> View credentials to obtain the JSON object containing the credentials you created. You\u2019ll want to store everything you see in a credentials variable like the one below (obviously, replace the placeholder values with your own). Take special note of your access_key_id and secret_access_key. <b>Do not delete   <code># @hidden_cell </code> as this will not allow people to see your credentials when you share your notebook. </b>", 
            "cell_type": "markdown", 
            "metadata": {}
        }, 
        {
            "source": "<code>\ncredentials = {<br>\n &nbsp; \"apikey\": \"your-api-key\",<br>\n &nbsp; \"cos_hmac_keys\": {<br>\n &nbsp;  \"access_key_id\": \"your-access-key-here\", <br>\n &nbsp;   \"secret_access_key\": \"your-secret-access-key-here\"<br>\n &nbsp; },<br>\n</code>\n<code>\n   &nbsp;\"endpoints\": \"your-endpoints\",<br>\n &nbsp; \"iam_apikey_description\": \"your-iam_apikey_description\",<br>\n &nbsp; \"iam_apikey_name\": \"your-iam_apikey_name\",<br>\n &nbsp; \"iam_role_crn\": \"your-iam_apikey_name\",<br>\n &nbsp;  \"iam_serviceid_crn\": \"your-iam_serviceid_crn\",<br>\n &nbsp;\"resource_instance_id\": \"your-resource_instance_id\"<br>\n}\n</code>", 
            "cell_type": "markdown", 
            "metadata": {}
        }, 
        {
            "execution_count": 33, 
            "cell_type": "code", 
            "metadata": {}, 
            "outputs": [], 
            "source": "# The code was removed by Watson Studio for sharing."
        }, 
        {
            "source": "From the tutorial <i> PROVISIONING AN OBJECT STORAGE INSTANCE ON IBM CLOUD </i> assign the name of your bucket to the variable  <code>bucket_name </code> ", 
            "cell_type": "markdown", 
            "metadata": {}
        }, 
        {
            "execution_count": 28, 
            "cell_type": "code", 
            "metadata": {}, 
            "outputs": [], 
            "source": "bucket_name = 'olasuleimonfirstbucket'"
        }, 
        {
            "source": "We can access IBM Cloud Object Storage with Python is to use the <code>ibm_boto3</code> library, which we\u2019ll import below.", 
            "cell_type": "markdown", 
            "metadata": {}
        }, 
        {
            "execution_count": 31, 
            "cell_type": "code", 
            "metadata": {}, 
            "outputs": [], 
            "source": "\nimport ibm_boto3\nfrom ibm_botocore.client import Config\n\nauth_endpoint = 'https://iam.bluemix.net/oidc/token'\nservice_endpoint = 'https://s3.us.cloud-object-storage.appdomain.cloud'\n#service_endpoint = 'https://s3-api.us-geo.objectstorage.softlayer.net'"
        }, 
        {
            "source": "The primary way to interact with IBM Cloud Object Storage through <code>ibm_boto3</code> is by using an <code>ibm_boto3.resource</code> object. This resource-based interface abstracts away the low-level REST interface between you and your Object Storage instance. Run the cell below to create a resource Python object using the IBM Cloud Object Storage credentials you filled in above.\n\n", 
            "cell_type": "markdown", 
            "metadata": {}
        }, 
        {
            "execution_count": 34, 
            "cell_type": "code", 
            "metadata": {}, 
            "outputs": [], 
            "source": "resource = ibm_boto3.resource('s3',\n                      ibm_api_key_id=credentials['apikey'],\n                      ibm_service_instance_id=credentials['resource_instance_id'],\n                      ibm_auth_endpoint=auth_endpoint,\n                      config=Config(signature_version='oauth'),\n                      endpoint_url=service_endpoint)"
        }, 
        {
            "source": "We are going to use  <code>open</code> to create a file object. To get the path of the file, you are going to concentrate the name of the file stored in the variable  csv_name, and the directory stored in the variable directory using the <code>+</code> operator and assign it to the variable \n<code>csv_path</code>. We will use the function <code>getcwd()</code> to find current working directory .", 
            "cell_type": "markdown", 
            "metadata": {}
        }, 
        {
            "execution_count": 36, 
            "cell_type": "code", 
            "metadata": {}, 
            "outputs": [], 
            "source": "import os\n\ndirectory=os.getcwd()\ncsv_path=directory+\"/\"+csv_name"
        }, 
        {
            "source": "Now you must read the csv file, use the function <code>f=open(file, mode)</code> to create a file object and assign it to the variable <code>f</code>. The  parameter <code> file<code> should be the variable <code>csv_path </code> , the mode should be <code>\"r\"</code>  for read. ", 
            "cell_type": "markdown", 
            "metadata": {}
        }, 
        {
            "execution_count": 37, 
            "cell_type": "code", 
            "metadata": {}, 
            "outputs": [], 
            "source": "f = open(csv_path,'r')"
        }, 
        {
            "source": "To load your dataset into the bucket we will use the method <code>put_object</code>, you must set the parameter name to the name of the bucket, the parameter <code>Key</code> should be the name of the csv file and the value for the parameter Body  should be set to <code>f.read()</code>.", 
            "cell_type": "markdown", 
            "metadata": {}
        }, 
        {
            "execution_count": 38, 
            "cell_type": "code", 
            "metadata": {}, 
            "outputs": [
                {
                    "execution_count": 38, 
                    "metadata": {}, 
                    "data": {
                        "text/plain": "s3.Object(bucket_name='olasuleimonfirstbucket', key='MJ1.csv')"
                    }, 
                    "output_type": "execute_result"
                }
            ], 
            "source": "resource.Bucket(name='olasuleimonfirstbucket').put_object(Key='MJ1.csv', Body=f.read())"
        }, 
        {
            "source": "<h2 id=\"Section_4\"> Question 4: Create URL to Share .csv  (optional)</h2>", 
            "cell_type": "markdown", 
            "metadata": {}
        }, 
        {
            "execution_count": 40, 
            "cell_type": "code", 
            "metadata": {}, 
            "outputs": [], 
            "source": "import boto3"
        }, 
        {
            "source": "In this section, you will use a <code>client</code> object, you will use this  to create a <code> url </code> to share the file you created.", 
            "cell_type": "markdown", 
            "metadata": {}
        }, 
        {
            "source": "This line of code will create a client object using the boto3 library using your credentials.", 
            "cell_type": "markdown", 
            "metadata": {}
        }, 
        {
            "execution_count": null, 
            "cell_type": "code", 
            "metadata": {}, 
            "outputs": [], 
            "source": ""
        }, 
        {
            "execution_count": 41, 
            "cell_type": "code", 
            "metadata": {}, 
            "outputs": [], 
            "source": "client = boto3.client(\n    's3',\n    aws_access_key_id = credentials[\"cos_hmac_keys\"]['access_key_id'],\n        aws_secret_access_key = credentials[\"cos_hmac_keys\"][\"secret_access_key\"],\n        endpoint_url=service_endpoint,\n\n)"
        }, 
        {
            "source": "This line of code will create a client object using the boto3 library.", 
            "cell_type": "markdown", 
            "metadata": {}
        }, 
        {
            "source": "In the dictionary  <code> Parms</code> provide the bucket name  as the value for the key  <i>'Bucket'</i>. Also for the value of the key <i>'Key' </i> add the name of the <code>csv </code> file, both values should be strings.", 
            "cell_type": "markdown", 
            "metadata": {}
        }, 
        {
            "execution_count": 44, 
            "cell_type": "code", 
            "metadata": {}, 
            "outputs": [], 
            "source": "Params={'Bucket':'olasuleimonfirstbucket' ,'Key':'MJ1.csv' }"
        }, 
        {
            "source": "execute the following lines of code to generate the URL, you will have to submit it so take note.", 
            "cell_type": "markdown", 
            "metadata": {}
        }, 
        {
            "execution_count": 45, 
            "cell_type": "code", 
            "metadata": {}, 
            "outputs": [
                {
                    "output_type": "stream", 
                    "name": "stdout", 
                    "text": "https://s3-api.us-geo.objectstorage.softlayer.net/olasuleimonfirstbucket/MJ1.csv?AWSAccessKeyId=0eb3c95b542f41a9980e221ba6c9f118&Signature=WPH5S7wfJdM6bapjD62F0XzY6Jg%3D&Expires=1563135429\n"
                }
            ], 
            "source": "\ntime=7*24*60**2+10\n\nurl=client.generate_presigned_url('get_object',Params=Params,ExpiresIn=time)\nprint(url)"
        }, 
        {
            "source": "<h2 id=\"Section_5\">  How to submit </h2>", 
            "cell_type": "markdown", 
            "metadata": {}
        }, 
        {
            "source": "<p>Once you complete your notebook you will have to share it to be marked. Select the icon on the top right a marked in red in the image below, a dialogue box should open, select the option all&nbsp;content excluding sensitive code cells.</p>\n\n<p><img height=\"440\" width=\"700\" src=\"https://s3-api.us-geo.objectstorage.softlayer.net/cf-courses-data/CognitiveClass/PY0101EN/projects/EdX/ReadMe%20files/share_noteook1.png\" alt=\"share notebook\" /></p>\n<p></p>\n\n<p>You can then share the notebook&nbsp; via a&nbsp; URL by scrolling down as shown in the following image:</p>\n<p style=\"text-align: center;\"> <img height=\"308\" width=\"350\" src=\"https://s3-api.us-geo.objectstorage.softlayer.net/cf-courses-data/CognitiveClass/PY0101EN/projects/EdX/ReadMe%20files/link2.png\"  alt=\"share notebook\" /> </p>", 
            "cell_type": "markdown", 
            "metadata": {}
        }, 
        {
            "source": "<hr>\n<p>Copyright &copy; 2019 IBM Developer Skills Network. This notebook and its source code are released under the terms of the <a href=\"https://cognitiveclass.ai/mit-license/\">MIT License</a>.</p>", 
            "cell_type": "markdown", 
            "metadata": {}
        }, 
        {
            "source": "<h2>About the Authors:</h2> \n\n<a href=\"https://www.linkedin.com/in/joseph-s-50398b136/\">Joseph Santarcangelo</a> has a PhD in Electrical Engineering, his research focused on using machine learning, signal processing, and computer vision to determine how videos impact human cognition. Joseph has been working for IBM since he completed his PhD.\n<p>\nOther contributors: <a href=\"https://www.linkedin.com/in/michelleccarey/\">Michelle Carey</a>, <a href=\"www.linkedin.com/in/jiahui-mavis-zhou-a4537814a\">Mavis Zhou</a> \n</p>", 
            "cell_type": "markdown", 
            "metadata": {}
        }, 
        {
            "execution_count": null, 
            "cell_type": "code", 
            "metadata": {}, 
            "outputs": [], 
            "source": ""
        }
    ], 
    "metadata": {
        "kernelspec": {
            "display_name": "Python 3.6", 
            "name": "python3", 
            "language": "python"
        }, 
        "language_info": {
            "mimetype": "text/x-python", 
            "nbconvert_exporter": "python", 
            "version": "3.6.8", 
            "name": "python", 
            "file_extension": ".py", 
            "pygments_lexer": "ipython3", 
            "codemirror_mode": {
                "version": 3, 
                "name": "ipython"
            }
        }
    }, 
    "nbformat": 4
}